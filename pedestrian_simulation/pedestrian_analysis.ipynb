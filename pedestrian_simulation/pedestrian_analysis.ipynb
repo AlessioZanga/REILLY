{
 "cells": [
  {
   "cell_type": "code",
   "execution_count": 1,
   "metadata": {},
   "outputs": [],
   "source": [
    "import os\n",
    "import sys\n",
    "sys.path.insert(0, os.path.abspath('..'))\n",
    "\n",
    "import reinforcement_learning as rl"
   ]
  },
  {
   "cell_type": "code",
   "execution_count": 2,
   "metadata": {},
   "outputs": [],
   "source": [
    "env = rl.TextEnvironment(\n",
    "    text=\"##########XXXXXX###\\n\" +\n",
    "         \"#                 #\\n\" +\n",
    "         \"#                 #\\n\" +\n",
    "         \"#                 #\\n\" +\n",
    "         \"#                 #\\n\" +\n",
    "         \"#                 #\\n\" +\n",
    "         \"#                 #\\n\" +\n",
    "         \"#                 #\\n\" +\n",
    "         \"#                 #\\n\" +\n",
    "         \"#                 #\\n\" +\n",
    "         \"#                 #\\n\" +\n",
    "         \"#                 #\\n\" +\n",
    "         \"#                 #\\n\" +\n",
    "         \"#                 #\\n\" +\n",
    "         \"#                 #\\n\" +\n",
    "         \"###  ##  #####  ###\\n\" +\n",
    "         \"#                 #\\n\" +\n",
    "         \"#                 #\\n\" +\n",
    "         \"#                 #\\n\" +\n",
    "         \"#                 #\\n\" +\n",
    "         \"#                 #\\n\" +\n",
    "         \"#                 #\\n\" +\n",
    "         \"#                 #\\n\" +\n",
    "         \"#                 #\\n\" +\n",
    "         \"#                 #\\n\" +\n",
    "         \"#                 #\\n\" +\n",
    "         \"#                 #\\n\" +\n",
    "         \"#                 #\\n\" +\n",
    "         \"#                 #\\n\" +\n",
    "         \"#                 #\\n\" +\n",
    "         \"##########SSSSSS###\",\n",
    "    max_steps=100,\n",
    "    neighbor=rl.TextNeighbor.MOORE,\n",
    "    raw_state=True\n",
    ")"
   ]
  },
  {
   "cell_type": "code",
   "execution_count": 3,
   "metadata": {},
   "outputs": [],
   "source": [
    "single_train_session = rl.SingleTrainSession(env, start_step=15)"
   ]
  },
  {
   "cell_type": "code",
   "execution_count": 4,
   "metadata": {},
   "outputs": [],
   "source": [
    "for _ in range(46):\n",
    "    #\"\"\"\n",
    "    agent = rl.SarsaLambdaAgent(\n",
    "            alpha=0.1,\n",
    "            epsilon=0.3,\n",
    "            gamma=0.99,\n",
    "            lambd=0.98,\n",
    "            epsilon_decay=0.99,\n",
    "            trace_type=\"replacing\",\n",
    "            feature_dims=2,\n",
    "            num_tilings=4,\n",
    "            tiles_size=[4,4],\n",
    "        )\n",
    "    \"\"\"\n",
    "    agent = rl.SarsaAgent(\n",
    "            states=env.states,\n",
    "            actions=env.actions,\n",
    "            alpha=0.1,\n",
    "            epsilon=0.3,\n",
    "            gamma=0.99,\n",
    "            epsilon_decay=0.99,\n",
    "        )\n",
    "    \"\"\"\n",
    "    single_train_session.add_agent(agent)"
   ]
  },
  {
   "cell_type": "code",
   "execution_count": null,
   "metadata": {},
   "outputs": [
    {
     "name": "stderr",
     "output_type": "stream",
     "text": [
      " 29%|██▊       | 143/500 [05:55<09:23,  1.58s/it]  "
     ]
    }
   ],
   "source": [
    "results = single_train_session.run(500, 50, 50)\n",
    "results"
   ]
  },
  {
   "cell_type": "code",
   "execution_count": null,
   "metadata": {},
   "outputs": [],
   "source": [
    "groupby = results.drop(['return_sum', 'wins', 'time', 'distance'], axis=1).groupby(['test', 'sample', 'agent'])\n",
    "arrival_time = groupby.max()\n",
    "travelling_time = arrival_time - groupby.min()"
   ]
  },
  {
   "cell_type": "code",
   "execution_count": null,
   "metadata": {},
   "outputs": [],
   "source": [
    "arrival_time"
   ]
  },
  {
   "cell_type": "code",
   "execution_count": null,
   "metadata": {},
   "outputs": [],
   "source": [
    "travelling_time"
   ]
  },
  {
   "cell_type": "code",
   "execution_count": null,
   "metadata": {},
   "outputs": [],
   "source": [
    "arrival_time.loc[(10)]"
   ]
  },
  {
   "cell_type": "code",
   "execution_count": null,
   "metadata": {},
   "outputs": [],
   "source": [
    "travelling_time.loc[(10)]"
   ]
  },
  {
   "cell_type": "code",
   "execution_count": null,
   "metadata": {},
   "outputs": [],
   "source": [
    "import pandas as pd\n",
    "scatter = pd.concat([arrival_time.loc[(10)], travelling_time.loc[(10)]], axis=1, sort=False)\n",
    "scatter.columns = ['arrival_time', 'travelling_time']\n",
    "scatter"
   ]
  },
  {
   "cell_type": "code",
   "execution_count": null,
   "metadata": {},
   "outputs": [],
   "source": [
    "points = [\n",
    "    tuple(row)\n",
    "    for _, row in scatter.iterrows()\n",
    "]\n",
    "points[:10]"
   ]
  },
  {
   "cell_type": "code",
   "execution_count": null,
   "metadata": {},
   "outputs": [],
   "source": [
    "%matplotlib inline\n",
    "import matplotlib\n",
    "import matplotlib.pyplot as plt\n",
    "plt.rcParams['figure.figsize'] = [15, 10]"
   ]
  },
  {
   "cell_type": "code",
   "execution_count": null,
   "metadata": {},
   "outputs": [],
   "source": [
    "plt.scatter([p[0] for p in points], [p[1] for p in points])"
   ]
  },
  {
   "cell_type": "code",
   "execution_count": null,
   "metadata": {},
   "outputs": [],
   "source": [
    "results"
   ]
  },
  {
   "cell_type": "code",
   "execution_count": null,
   "metadata": {},
   "outputs": [],
   "source": [
    "groupby = results.drop(['return_sum', 'wins', 'time', 'distance'], axis=1).groupby(['test', 'sample', 'step'])\n",
    "count = groupby.count()"
   ]
  },
  {
   "cell_type": "code",
   "execution_count": null,
   "metadata": {},
   "outputs": [],
   "source": [
    "density = count / 200\n",
    "density.columns = ['density']\n",
    "density"
   ]
  },
  {
   "cell_type": "code",
   "execution_count": null,
   "metadata": {},
   "outputs": [],
   "source": [
    "flow = count.cumsum()['agent'].rolling(window=2).apply(lambda x: x.iloc[-1] - x.iloc[0])\n",
    "flow"
   ]
  },
  {
   "cell_type": "code",
   "execution_count": null,
   "metadata": {},
   "outputs": [],
   "source": [
    "scatter = pd.concat([density.loc[(10, 49)], flow.loc[(10, 49)]], axis=1, sort=False)\n",
    "scatter.columns = ['density', 'flow']\n",
    "scatter"
   ]
  },
  {
   "cell_type": "code",
   "execution_count": null,
   "metadata": {},
   "outputs": [],
   "source": [
    "points = [\n",
    "    tuple(row)\n",
    "    for _, row in scatter.iterrows()\n",
    "]\n",
    "points"
   ]
  },
  {
   "cell_type": "code",
   "execution_count": null,
   "metadata": {},
   "outputs": [],
   "source": [
    "plt.plot(list(range(len(points))), [p[0] for p in points])"
   ]
  },
  {
   "cell_type": "code",
   "execution_count": null,
   "metadata": {},
   "outputs": [],
   "source": [
    "plt.scatter([p[0] for p in points], [p[1] for p in points])"
   ]
  },
  {
   "cell_type": "code",
   "execution_count": null,
   "metadata": {},
   "outputs": [],
   "source": [
    "groupby = results.drop(['return_sum', 'wins', 'time', 'distance', 'agent'], axis=1).groupby(['test', 'sample'])\n",
    "arrival_time = groupby.max() * 0.25\n",
    "arrival_time"
   ]
  },
  {
   "cell_type": "code",
   "execution_count": null,
   "metadata": {},
   "outputs": [],
   "source": []
  }
 ],
 "metadata": {
  "kernelspec": {
   "display_name": "Python 3",
   "language": "python",
   "name": "python3"
  },
  "language_info": {
   "codemirror_mode": {
    "name": "ipython",
    "version": 3
   },
   "file_extension": ".py",
   "mimetype": "text/x-python",
   "name": "python",
   "nbconvert_exporter": "python",
   "pygments_lexer": "ipython3",
   "version": "3.8.2"
  }
 },
 "nbformat": 4,
 "nbformat_minor": 4
}
